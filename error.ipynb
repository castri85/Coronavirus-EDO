{
 "cells": [
  {
   "cell_type": "code",
   "execution_count": 4,
   "metadata": {},
   "outputs": [],
   "source": [
    "#Codigo de verlet\n",
    "import numpy as np\n",
    "import matplotlib.pyplot as plt\n",
    "from scipy.optimize import curve_fit\n",
    "from scipy.integrate import odeint\n",
    "\n",
    "def euler(xn,yn,h,F):\n",
    "    return yn + (h*F(xn,yn))\n",
    "\n",
    "def Runge_kutta(x,y,h,f):\n",
    "        k1=h*f(x,y)\n",
    "        k2=h*f(x+h/2,y+h*k1/2)\n",
    "        k3=h*f(x+h/2,y+h*k2/2)\n",
    "        k4=h*f(x+h,y+h*k3)\n",
    "        return y+(k1+2*(k2+k3)+k4)/6\n",
    "        \n",
    "\n",
    "def f(x,y):\n",
    "    return x-y\n",
    "\n",
    "def exacta(x):\n",
    "    return x-1+2*np.exp(-x)"
   ]
  },
  {
   "cell_type": "code",
   "execution_count": 5,
   "metadata": {
    "scrolled": true
   },
   "outputs": [
    {
     "name": "stdout",
     "output_type": "stream",
     "text": [
      "10011\n"
     ]
    },
    {
     "data": {
      "text/plain": [
       "0"
      ]
     },
     "execution_count": 5,
     "metadata": {},
     "output_type": "execute_result"
    }
   ],
   "source": [
    "%matplotlib qt\n",
    "N=np.array([10011])\n",
    "x0=0;xf=5; y0=1;y1=1\n",
    "h=(xf-x0)/10011\n",
    "\n",
    "def Error(S_Exacta,f,metodo1,metodo2,x0,xf,y0,N):\n",
    "    yO_difference=[]\n",
    "    yE_difference=[]\n",
    "    yR_difference=[]\n",
    "    h=(xf-x0)/N;y1=1\n",
    "    for j in N:\n",
    "        metodo1_=[]\n",
    "        metodo2_=[]\n",
    "        \n",
    "        xs=np.linspace(x0,xf,j)\n",
    "        \n",
    "        metodo1_.append(y0)\n",
    "        metodo2_.append(y0)\n",
    "        \n",
    "        for i in xs[1:]:\n",
    "            #print(i)\n",
    "            currentsolution=metodo1(i,metodo1_[-1],((xf-x0)/j),f)\n",
    "            metodo1_.append(currentsolution)\n",
    "            currentsolution2=metodo2(i,metodo2_[-1],((xf-x0)/j),f)\n",
    "            metodo2_.append(currentsolution2)\n",
    "            \n",
    "        #Odeint solution\n",
    "        ys =odeint(f,y0,xs)\n",
    "        ys =np.array(ys).flatten()\n",
    "        t=np.linspace(0,5,10011)\n",
    "        y_exact=exacta(t)\n",
    "        print(j)\n",
    "        \n",
    "    \n",
    "        \n",
    "    y1_difference=np.abs(ys-y_exact)\n",
    "    yE_difference=np.abs(y_exact-metodo1_)\n",
    "    yE_difference2=np.abs(y_exact-metodo2_)\n",
    "    \n",
    "    \n",
    "    plt.figure(1)\n",
    "    plt.title(\"Error respecto a exacta \")\n",
    "    plt.semilogy(xs,yE_difference,\"red\",label=\"odeint\")\n",
    "    plt.semilogy(xs,yE_difference2,\"blue\",label=\"Runge\")\n",
    "    plt.semilogy(xs,y1_difference,\"black\",label=\"euler\")\n",
    "    plt.legend()\n",
    "    \n",
    "    return 0\n",
    "\n",
    "Error(exacta,f,euler,Runge_kutta,x0,xf,y0,N)\n"
   ]
  },
  {
   "cell_type": "code",
   "execution_count": null,
   "metadata": {},
   "outputs": [],
   "source": []
  },
  {
   "cell_type": "code",
   "execution_count": null,
   "metadata": {},
   "outputs": [],
   "source": []
  }
 ],
 "metadata": {
  "kernelspec": {
   "display_name": "Python 3",
   "language": "python",
   "name": "python3"
  },
  "language_info": {
   "codemirror_mode": {
    "name": "ipython",
    "version": 3
   },
   "file_extension": ".py",
   "mimetype": "text/x-python",
   "name": "python",
   "nbconvert_exporter": "python",
   "pygments_lexer": "ipython3",
   "version": "3.7.3"
  }
 },
 "nbformat": 4,
 "nbformat_minor": 2
}
